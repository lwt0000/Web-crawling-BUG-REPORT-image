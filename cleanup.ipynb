{
 "cells": [
  {
   "cell_type": "code",
   "execution_count": 1,
   "id": "60ffd44e-7a34-47f7-8ed9-47c01d56ffe4",
   "metadata": {},
   "outputs": [
    {
     "name": "stdout",
     "output_type": "stream",
     "text": [
      "/home/jupyter-wentao/Web-crawling-BUG-REPORT-image\n"
     ]
    }
   ],
   "source": [
    "!pwd"
   ]
  },
  {
   "cell_type": "code",
   "execution_count": null,
   "id": "d828650f-c08c-4ca1-888c-22cfb35f23cc",
   "metadata": {},
   "outputs": [],
   "source": [
    "!pip install -U pip\n",
    "!pip install fastdup"
   ]
  },
  {
   "cell_type": "code",
   "execution_count": 1,
   "id": "c31d1ebb-9b20-4a74-9214-a36e4c110376",
   "metadata": {},
   "outputs": [
    {
     "data": {
      "text/plain": [
       "'2.3'"
      ]
     },
     "execution_count": 1,
     "metadata": {},
     "output_type": "execute_result"
    }
   ],
   "source": [
    "import fastdup\n",
    "import os\n",
    "import json\n",
    "import glob\n",
    "fastdup.__version__"
   ]
  },
  {
   "cell_type": "code",
   "execution_count": 3,
   "id": "0c1c8ff2-ab11-47f0-8c77-b8726103227b",
   "metadata": {},
   "outputs": [
    {
     "name": "stderr",
     "output_type": "stream",
     "text": [
      "Warning: fastdup create() without work_dir argument, output is stored in a folder named work_dir in your current working path.\n"
     ]
    },
    {
     "name": "stdout",
     "output_type": "stream",
     "text": [
      "\n",
      "fastdup By Visual Layer, Inc. 2024. All rights reserved.\n",
      "\n",
      "A fastdup dataset object was created!\n",
      "\n",
      "Input directory is set to \u001b[0;35m\"data/images\"\u001b[0m\n",
      "Work directory is set to \u001b[0;35m\"work_dir\"\u001b[0m\n",
      "\n",
      "The next steps are:\n",
      "   1. Analyze your dataset with the \u001b[0;35m.run()\u001b[0m function of the dataset object\n",
      "   2. Interactively explore your data on your local machine with the \u001b[0;35m.explore()\u001b[0m function of the dataset object\n",
      "\n",
      "For more information, use \u001b[0;35mhelp(fastdup)\u001b[0m or check our documentation https://docs.visual-layer.com/docs/getting-started-with-fastdup.\n",
      "\n"
     ]
    },
    {
     "name": "stderr",
     "output_type": "stream",
     "text": [
      "fastdup By Visual Layer, Inc. 2024. All rights reserved.\n"
     ]
    },
    {
     "name": "stdout",
     "output_type": "stream",
     "text": [
      "Initializing data [■■■■■■■■                                          ] 16% Estimated: 1 Minutes\r"
     ]
    },
    {
     "name": "stderr",
     "output_type": "stream",
     "text": [
      "libpng warning: iCCP: known incorrect sRGB profile\n"
     ]
    },
    {
     "name": "stdout",
     "output_type": "stream",
     "text": [
      "Initializing data [■■■■■■■■■                                         ] 17% Estimated: 1 Minutes\r"
     ]
    },
    {
     "name": "stderr",
     "output_type": "stream",
     "text": [
      "libpng warning: iCCP: known incorrect sRGB profile\n",
      "libpng warning: iCCP: known incorrect sRGB profile\n"
     ]
    },
    {
     "name": "stdout",
     "output_type": "stream",
     "text": [
      "Initializing data [■■■■■■■■■■■■■■                                    ] 27% Estimated: 1 Minutes\r"
     ]
    },
    {
     "name": "stderr",
     "output_type": "stream",
     "text": [
      "libpng warning: iCCP: known incorrect sRGB profile\n"
     ]
    },
    {
     "name": "stdout",
     "output_type": "stream",
     "text": [
      "Initializing data [■■■■■■■■■■■■■■■■■■■■                              ] 39% Estimated: 1 Minutes\r"
     ]
    },
    {
     "name": "stderr",
     "output_type": "stream",
     "text": [
      "libpng warning: iCCP: known incorrect sRGB profile\n",
      "libpng warning: iCCP: known incorrect sRGB profile\n"
     ]
    },
    {
     "name": "stdout",
     "output_type": "stream",
     "text": [
      "Initializing data [■■■■■■■■■■■■■■■■■■■■■                             ] 41% Estimated: 1 Minutes\r"
     ]
    },
    {
     "name": "stderr",
     "output_type": "stream",
     "text": [
      "libpng warning: iCCP: known incorrect sRGB profile\n"
     ]
    },
    {
     "name": "stdout",
     "output_type": "stream",
     "text": [
      "Initializing data [■■■■■■■■■■■■■■■■■■■■■■                            ] 44% Estimated: 1 Minutes\r"
     ]
    },
    {
     "name": "stderr",
     "output_type": "stream",
     "text": [
      "libpng warning: iCCP: known incorrect sRGB profile\n"
     ]
    },
    {
     "name": "stdout",
     "output_type": "stream",
     "text": [
      "Initializing data [■■■■■■■■■■■■■■■■■■■■■■■■■■■■■■■■■■■               ] 69% Estimated: 0 Minutes\r"
     ]
    },
    {
     "name": "stderr",
     "output_type": "stream",
     "text": [
      "libpng warning: iCCP: known incorrect sRGB profile\n",
      "libpng warning: iCCP: known incorrect sRGB profile\n",
      "libpng warning: iCCP: known incorrect sRGB profile\n",
      "libpng warning: iCCP: known incorrect sRGB profile\n"
     ]
    },
    {
     "name": "stdout",
     "output_type": "stream",
     "text": [
      "Initializing data [■■■■■■■■■■■■■■■■■■■■■■■■■■■■■■■■■■■■              ] 71% Estimated: 0 Minutes\r"
     ]
    },
    {
     "name": "stderr",
     "output_type": "stream",
     "text": [
      "libpng warning: iCCP: extra compressed data\n",
      "libpng warning: iCCP: extra compressed data\n",
      "libpng warning: iCCP: extra compressed data\n",
      "libpng warning: iCCP: extra compressed data\n",
      "libpng warning: iCCP: extra compressed data\n",
      "libpng warning: iCCP: extra compressed data\n"
     ]
    },
    {
     "name": "stdout",
     "output_type": "stream",
     "text": [
      "Initializing data [■■■■■■■■■■■■■■■■■■■■■■■■■■■■■■■■■■■■■             ] 73% Estimated: 0 Minutes\r"
     ]
    },
    {
     "name": "stderr",
     "output_type": "stream",
     "text": [
      "libpng warning: iCCP: known incorrect sRGB profile\n"
     ]
    },
    {
     "name": "stdout",
     "output_type": "stream",
     "text": [
      "Initializing data [■■■■■■■■■■■■■■■■■■■■■■■■■■■■■■■■■■■■■             ] 74% Estimated: 0 Minutes\r"
     ]
    },
    {
     "name": "stderr",
     "output_type": "stream",
     "text": [
      "libpng warning: iCCP: known incorrect sRGB profile\n",
      "libpng warning: iCCP: known incorrect sRGB profile\n",
      "libpng warning: iCCP: known incorrect sRGB profile\n",
      "libpng warning: iCCP: known incorrect sRGB profile\n"
     ]
    },
    {
     "name": "stdout",
     "output_type": "stream",
     "text": [
      "Initializing data [■■■■■■■■■■■■■■■■■■■■■■■■■■■■■■■■■■■■■■            ] 75% Estimated: 0 Minutes\r"
     ]
    },
    {
     "name": "stderr",
     "output_type": "stream",
     "text": [
      "libpng warning: iCCP: known incorrect sRGB profile\n",
      "libpng warning: iCCP: known incorrect sRGB profile\n",
      "libpng warning: iCCP: known incorrect sRGB profile\n",
      "libpng warning: iCCP: cHRM chunk does not match sRGB\n",
      "libpng warning: iCCP: known incorrect sRGB profile\n",
      "libpng warning: iCCP: known incorrect sRGB profile\n",
      "libpng warning: iCCP: known incorrect sRGB profile\n",
      "libpng warning: iCCP: known incorrect sRGB profile\n"
     ]
    },
    {
     "name": "stdout",
     "output_type": "stream",
     "text": [
      "Initializing data [■■■■■■■■■■■■■■■■■■■■■■■■■■■■■■■■■■■■■■            ] 76% Estimated: 0 Minutes\r"
     ]
    },
    {
     "name": "stderr",
     "output_type": "stream",
     "text": [
      "libpng warning: iCCP: known incorrect sRGB profile\n",
      "libpng warning: iCCP: known incorrect sRGB profile\n",
      "libpng warning: iCCP: known incorrect sRGB profile\n",
      "libpng warning: iCCP: known incorrect sRGB profile\n",
      "libpng warning: iCCP: known incorrect sRGB profile\n",
      "libpng warning: iCCP: known incorrect sRGB profile\n",
      "libpng warning: iCCP: known incorrect sRGB profile\n"
     ]
    },
    {
     "name": "stdout",
     "output_type": "stream",
     "text": [
      "Initializing data [■■■■■■■■■■■■■■■■■■■■■■■■■■■■■■■■■■■■■■■           ] 77% Estimated: 0 Minutes\r"
     ]
    },
    {
     "name": "stderr",
     "output_type": "stream",
     "text": [
      "libpng warning: iCCP: known incorrect sRGB profile\n",
      "libpng warning: iCCP: known incorrect sRGB profile\n",
      "libpng warning: iCCP: known incorrect sRGB profile\n",
      "libpng warning: iCCP: known incorrect sRGB profile\n",
      "libpng warning: iCCP: known incorrect sRGB profile\n",
      "libpng warning: iCCP: known incorrect sRGB profile\n",
      "libpng warning: iCCP: known incorrect sRGB profile\n",
      "libpng warning: iCCP: known incorrect sRGB profile\n",
      "libpng warning: iCCP: known incorrect sRGB profile\n",
      "libpng warning: iCCP: known incorrect sRGB profile\n",
      "libpng warning: iCCP: cHRM chunk does not match sRGB\n",
      "libpng warning: iCCP: known incorrect sRGB profile\n",
      "libpng warning: iCCP: cHRM chunk does not match sRGB\n"
     ]
    },
    {
     "name": "stdout",
     "output_type": "stream",
     "text": [
      "Initializing data [■■■■■■■■■■■■■■■■■■■■■■■■■■■■■■■■■■■■■■■           ] 78% Estimated: 0 Minutes\r"
     ]
    },
    {
     "name": "stderr",
     "output_type": "stream",
     "text": [
      "libpng warning: iCCP: known incorrect sRGB profile\n"
     ]
    },
    {
     "name": "stdout",
     "output_type": "stream",
     "text": [
      "Initializing data [■■■■■■■■■■■■■■■■■■■■■■■■■■■■■■■■■■■■■■■■          ] 79% Estimated: 0 Minutes\r"
     ]
    },
    {
     "name": "stderr",
     "output_type": "stream",
     "text": [
      "libpng warning: iCCP: known incorrect sRGB profile\n",
      "libpng warning: iCCP: known incorrect sRGB profile\n",
      "libpng warning: iCCP: known incorrect sRGB profile\n",
      "libpng warning: iCCP: known incorrect sRGB profile\n",
      "libpng warning: iCCP: known incorrect sRGB profile\n",
      "libpng warning: iCCP: known incorrect sRGB profile\n",
      "libpng warning: iCCP: known incorrect sRGB profilelibpng warning: iCCP: known incorrect sRGB profile\n",
      "\n"
     ]
    },
    {
     "name": "stdout",
     "output_type": "stream",
     "text": [
      "Initializing data [■■■■■■■■■■■■■■■■■■■■■■■■■■■■■■■■■■■■■■■■■         ] 82% Estimated: 0 Minutes\r"
     ]
    },
    {
     "name": "stderr",
     "output_type": "stream",
     "text": [
      "libpng warning: iCCP: known incorrect sRGB profile\n"
     ]
    },
    {
     "name": "stdout",
     "output_type": "stream",
     "text": [
      "Initializing data [■■■■■■■■■■■■■■■■■■■■■■■■■■■■■■■■■■■■■■■■■■        ] 83% Estimated: 0 Minutes\r"
     ]
    },
    {
     "name": "stderr",
     "output_type": "stream",
     "text": [
      "libpng warning: iCCP: known incorrect sRGB profile\n",
      "libpng warning: iCCP: known incorrect sRGB profile\n",
      "libpng warning: iCCP: known incorrect sRGB profile\n",
      "libpng warning: iCCP: known incorrect sRGB profile\n"
     ]
    },
    {
     "name": "stdout",
     "output_type": "stream",
     "text": [
      "Initializing data [■■■■■■■■■■■■■■■■■■■■■■■■■■■■■■■■■■■■■■■■■■        ] 84% Estimated: 0 Minutes\r"
     ]
    },
    {
     "name": "stderr",
     "output_type": "stream",
     "text": [
      "libpng warning: iCCP: known incorrect sRGB profile\n",
      "libpng warning: iCCP: known incorrect sRGB profile\n",
      "libpng warning: iCCP: known incorrect sRGB profile\n",
      "libpng warning: iCCP: known incorrect sRGB profile\n"
     ]
    },
    {
     "name": "stdout",
     "output_type": "stream",
     "text": [
      "Initializing data [■■■■■■■■■■■■■■■■■■■■■■■■■■■■■■■■■■■■■■■■■■■       ] 85% Estimated: 0 Minutes\r"
     ]
    },
    {
     "name": "stderr",
     "output_type": "stream",
     "text": [
      "libpng warning: iCCP: known incorrect sRGB profile\n",
      "libpng warning: iCCP: cHRM chunk does not match sRGB\n",
      "libpng warning: iCCP: known incorrect sRGB profile\n",
      "libpng warning: iCCP: cHRM chunk does not match sRGB\n",
      "libpng warning: iCCP: known incorrect sRGB profile\n",
      "libpng warning: iCCP: cHRM chunk does not match sRGB\n"
     ]
    },
    {
     "name": "stdout",
     "output_type": "stream",
     "text": [
      "Initializing data [■■■■■■■■■■■■■■■■■■■■■■■■■■■■■■■■■■■■■■■■■■■■      ] 88% Estimated: 0 Minutes\r"
     ]
    },
    {
     "name": "stderr",
     "output_type": "stream",
     "text": [
      "libpng warning: iCCP: known incorrect sRGB profile\n"
     ]
    },
    {
     "name": "stdout",
     "output_type": "stream",
     "text": [
      "Initializing data [■■■■■■■■■■■■■■■■■■■■■■■■■■■■■■■■■■■■■■■■■■■■■     ] 89% Estimated: 0 Minutes\r"
     ]
    },
    {
     "name": "stderr",
     "output_type": "stream",
     "text": [
      "libpng warning: iCCP: extra compressed data\n"
     ]
    },
    {
     "name": "stdout",
     "output_type": "stream",
     "text": [
      "Initializing data [■■■■■■■■■■■■■■■■■■■■■■■■■■■■■■■■■■■■■■■■■■■■■■    ] 91% Estimated: 0 Minutes\r"
     ]
    },
    {
     "name": "stderr",
     "output_type": "stream",
     "text": [
      "libpng warning: iCCP: extra compressed data\n"
     ]
    },
    {
     "name": "stdout",
     "output_type": "stream",
     "text": [
      "Initializing data [■■■■■■■■■■■■■■■■■■■■■■■■■■■■■■■■■■■■■■■■■■■■■■■■■■] 100% Estimated: 0 Minutes\r"
     ]
    },
    {
     "name": "stderr",
     "output_type": "stream",
     "text": [
      "Building index:  33%|███▎      | 1/3 [00:40<01:21, 40.99s/it]libpng warning: iCCP: known incorrect sRGB profile\n",
      "libpng warning: iCCP: known incorrect sRGB profile\n",
      "libpng warning: iCCP: cHRM chunk does not match sRGB\n",
      "libpng warning: iCCP: known incorrect sRGB profile\n",
      "libpng warning: iCCP: known incorrect sRGB profile\n",
      "libpng warning: iCCP: known incorrect sRGB profile\n",
      "libpng warning: iCCP: known incorrect sRGB profile\n",
      "libpng warning: iCCP: known incorrect sRGB profile\n",
      "libpng warning: iCCP: known incorrect sRGB profile\n",
      "libpng warning: iCCP: extra compressed data\n",
      "libpng warning: iCCP: known incorrect sRGB profile\n",
      "libpng warning: iCCP: known incorrect sRGB profile\n",
      "libpng warning: iCCP: known incorrect sRGB profile\n",
      "libpng warning: iCCP: known incorrect sRGB profile\n",
      "libpng warning: iCCP: known incorrect sRGB profile\n",
      "libpng warning: iCCP: known incorrect sRGB profile\n",
      "libpng warning: iCCP: known incorrect sRGB profile\n",
      "libpng warning: iCCP: known incorrect sRGB profile\n",
      "libpng warning: iCCP: known incorrect sRGB profile\n",
      "libpng warning: iCCP: cHRM chunk does not match sRGB\n",
      "libpng warning: iCCP: extra compressed data\n",
      "libpng warning: iCCP: known incorrect sRGB profile\n",
      "libpng warning: iCCP: known incorrect sRGB profile\n",
      "libpng warning: iCCP: known incorrect sRGB profile\n",
      "libpng warning: iCCP: known incorrect sRGB profile\n",
      "libpng warning: iCCP: known incorrect sRGB profile\n",
      "libpng warning: iCCP: known incorrect sRGB profile\n",
      "libpng warning: iCCP: cHRM chunk does not match sRGB\n",
      "libpng warning: iCCP: known incorrect sRGB profile\n",
      "libpng warning: iCCP: known incorrect sRGB profile\n",
      "libpng warning: iCCP: known incorrect sRGB profile\n",
      "libpng warning: iCCP: known incorrect sRGB profile\n",
      "libpng warning: iCCP: known incorrect sRGB profile\n",
      "libpng warning: iCCP: known incorrect sRGB profile\n",
      "libpng warning: iCCP: known incorrect sRGB profile\n",
      "libpng warning: iCCP: known incorrect sRGB profile\n",
      "libpng warning: iCCP: known incorrect sRGB profile\n",
      "libpng warning: iCCP: extra compressed data\n",
      "libpng warning: iCCP: known incorrect sRGB profile\n",
      "libpng warning: iCCP: cHRM chunk does not match sRGB\n",
      "libpng warning: iCCP: extra compressed data\n",
      "libpng warning: iCCP: known incorrect sRGB profile\n",
      "libpng warning: iCCP: known incorrect sRGB profile\n",
      "libpng warning: iCCP: known incorrect sRGB profile\n",
      "libpng warning: iCCP: known incorrect sRGB profile\n",
      "libpng warning: iCCP: known incorrect sRGB profile\n",
      "libpng warning: iCCP: known incorrect sRGB profile\n",
      "libpng warning: iCCP: extra compressed data\n",
      "libpng warning: iCCP: known incorrect sRGB profile\n",
      "libpng warning: iCCP: known incorrect sRGB profile\n",
      "libpng warning: iCCP: cHRM chunk does not match sRGB\n",
      "libpng warning: iCCP: known incorrect sRGB profile\n",
      "libpng warning: iCCP: extra compressed data\n",
      "libpng warning: iCCP: known incorrect sRGB profile\n",
      "libpng warning: iCCP: known incorrect sRGB profile\n",
      "libpng warning: iCCP: extra compressed data\n",
      "libpng warning: iCCP: known incorrect sRGB profile\n",
      "libpng warning: iCCP: known incorrect sRGB profile\n",
      "libpng warning: iCCP: known incorrect sRGB profile\n",
      "libpng warning: iCCP: known incorrect sRGB profile\n",
      "libpng warning: iCCP: cHRM chunk does not match sRGB\n",
      "libpng warning: iCCP: known incorrect sRGB profile\n",
      "libpng warning: iCCP: known incorrect sRGB profile\n",
      "libpng warning: iCCP: known incorrect sRGB profile\n",
      "libpng warning: iCCP: known incorrect sRGB profile\n",
      "libpng warning: iCCP: known incorrect sRGB profile\n",
      "libpng warning: iCCP: known incorrect sRGB profile\n",
      "libpng warning: iCCP: known incorrect sRGB profile\n",
      "libpng warning: iCCP: known incorrect sRGB profile\n",
      "libpng warning: iCCP: extra compressed data\n",
      "libpng warning: iCCP: known incorrect sRGB profile\n",
      "libpng warning: iCCP: known incorrect sRGB profile\n",
      "libpng warning: iCCP: known incorrect sRGB profile\n",
      "libpng warning: iCCP: known incorrect sRGB profile\n",
      "libpng warning: iCCP: known incorrect sRGB profile\n",
      "libpng warning: iCCP: known incorrect sRGB profile\n",
      "libpng warning: iCCP: known incorrect sRGB profile\n",
      "libpng warning: iCCP: known incorrect sRGB profile\n",
      "Creating visualization:  67%|██████▋   | 2/3 [05:36<03:10, 190.97s/it]"
     ]
    },
    {
     "data": {
      "application/vnd.jupyter.widget-view+json": {
       "model_id": "bef8701383264610a0dde27160bf299b",
       "version_major": 2,
       "version_minor": 0
      },
      "text/plain": [
       "FloatProgress(value=0.0, layout=Layout(width='auto'), style=ProgressStyle(bar_color='black'))"
      ]
     },
     "metadata": {},
     "output_type": "display_data"
    },
    {
     "data": {
      "application/vnd.jupyter.widget-view+json": {
       "model_id": "a5508f7ecdb64f618c18719719d4a02c",
       "version_major": 2,
       "version_minor": 0
      },
      "text/plain": [
       "FloatProgress(value=0.0, layout=Layout(width='auto'), style=ProgressStyle(bar_color='black'))"
      ]
     },
     "metadata": {},
     "output_type": "display_data"
    },
    {
     "data": {
      "application/vnd.jupyter.widget-view+json": {
       "model_id": "b74e7189af5c42af9c3a617e2de44789",
       "version_major": 2,
       "version_minor": 0
      },
      "text/plain": [
       "FloatProgress(value=0.0, layout=Layout(width='auto'), style=ProgressStyle(bar_color='black'))"
      ]
     },
     "metadata": {},
     "output_type": "display_data"
    },
    {
     "name": "stderr",
     "output_type": "stream",
     "text": [
      "Done: 100%|██████████| 3/3 [06:02<00:00, 120.87s/it]                  "
     ]
    },
    {
     "name": "stdout",
     "output_type": "stream",
     "text": [
      "\n",
      "Analysis complete. Use the \u001b[0;35m.explore()\u001b[0m function to interactively explore your data on your local machine.\n",
      "\n",
      "Alternatively, you can generate HTML-based galleries.\n",
      "For more information, use \u001b[0;35mhelp(fastdup)\u001b[0m or check our documentation https://docs.visual-layer.com/docs/getting-started-with-fastdup.\n",
      "\n"
     ]
    },
    {
     "name": "stderr",
     "output_type": "stream",
     "text": [
      "\n"
     ]
    },
    {
     "data": {
      "text/plain": [
       "0"
      ]
     },
     "execution_count": 3,
     "metadata": {},
     "output_type": "execute_result"
    }
   ],
   "source": [
    "fd = fastdup.create(input_dir=\"data/images/\")\n",
    "fd.run(overwrite=True)"
   ]
  },
  {
   "cell_type": "code",
   "execution_count": 4,
   "id": "89fa81cb-42d3-45a5-a6ae-b803194ddf48",
   "metadata": {},
   "outputs": [
    {
     "name": "stdout",
     "output_type": "stream",
     "text": [
      "\n",
      " ########################################################################################\n",
      "\n",
      "Dataset Analysis Summary: \n",
      "\n",
      "    Dataset contains 26205 images\n",
      "    Valid images are 100.00% (26,204) of the data, invalid are 0.00% (1) of the data\n",
      "    For a detailed analysis, use `.invalid_instances()`.\n",
      "\n",
      "    Outliers: 7.01% (1,837) of images are possible outliers, and fall in the bottom 5.00% of similarity values.\n",
      "    For a detailed list of outliers, use `.outliers()`.\n",
      "\n"
     ]
    },
    {
     "data": {
      "text/plain": [
       "['Dataset contains 26205 images',\n",
       " 'Valid images are 100.00% (26,204) of the data, invalid are 0.00% (1) of the data',\n",
       " 'For a detailed analysis, use `.invalid_instances()`.\\n',\n",
       " 'Outliers: 7.01% (1,837) of images are possible outliers, and fall in the bottom 5.00% of similarity values.',\n",
       " 'For a detailed list of outliers, use `.outliers()`.\\n']"
      ]
     },
     "execution_count": 4,
     "metadata": {},
     "output_type": "execute_result"
    }
   ],
   "source": [
    "#fd.explore()\n",
    "fd.summary()"
   ]
  },
  {
   "cell_type": "code",
   "execution_count": 5,
   "id": "9834a105-58d6-43ac-8d58-5c575d788643",
   "metadata": {},
   "outputs": [
    {
     "data": {
      "text/html": [
       "<div>\n",
       "<style scoped>\n",
       "    .dataframe tbody tr th:only-of-type {\n",
       "        vertical-align: middle;\n",
       "    }\n",
       "\n",
       "    .dataframe tbody tr th {\n",
       "        vertical-align: top;\n",
       "    }\n",
       "\n",
       "    .dataframe thead th {\n",
       "        text-align: right;\n",
       "    }\n",
       "</style>\n",
       "<table border=\"1\" class=\"dataframe\">\n",
       "  <thead>\n",
       "    <tr style=\"text-align: right;\">\n",
       "      <th></th>\n",
       "      <th>filename</th>\n",
       "      <th>index</th>\n",
       "      <th>error_code</th>\n",
       "      <th>is_valid</th>\n",
       "      <th>fd_index</th>\n",
       "    </tr>\n",
       "  </thead>\n",
       "  <tbody>\n",
       "    <tr>\n",
       "      <th>11936</th>\n",
       "      <td>data/images/FC24_1157.png</td>\n",
       "      <td>11936</td>\n",
       "      <td>ERROR_IMAGE_TOO_SMALL</td>\n",
       "      <td>False</td>\n",
       "      <td>11936</td>\n",
       "    </tr>\n",
       "  </tbody>\n",
       "</table>\n",
       "</div>"
      ],
      "text/plain": [
       "                        filename  index             error_code  is_valid  fd_index\n",
       "11936  data/images/FC24_1157.png  11936  ERROR_IMAGE_TOO_SMALL     False     11936"
      ]
     },
     "execution_count": 5,
     "metadata": {},
     "output_type": "execute_result"
    }
   ],
   "source": [
    "fd.invalid_instances()"
   ]
  },
  {
   "cell_type": "code",
   "execution_count": 6,
   "id": "28f6faf3-c21f-44c1-a18e-799de823b964",
   "metadata": {},
   "outputs": [
    {
     "data": {
      "text/html": [
       "<div>\n",
       "<style scoped>\n",
       "    .dataframe tbody tr th:only-of-type {\n",
       "        vertical-align: middle;\n",
       "    }\n",
       "\n",
       "    .dataframe tbody tr th {\n",
       "        vertical-align: top;\n",
       "    }\n",
       "\n",
       "    .dataframe thead th {\n",
       "        text-align: right;\n",
       "    }\n",
       "</style>\n",
       "<table border=\"1\" class=\"dataframe\">\n",
       "  <thead>\n",
       "    <tr style=\"text-align: right;\">\n",
       "      <th></th>\n",
       "      <th>index</th>\n",
       "      <th>component_id</th>\n",
       "      <th>count</th>\n",
       "      <th>mean_distance</th>\n",
       "      <th>min_distance</th>\n",
       "      <th>max_distance</th>\n",
       "      <th>filename</th>\n",
       "      <th>error_code</th>\n",
       "      <th>is_valid</th>\n",
       "      <th>fd_index</th>\n",
       "    </tr>\n",
       "  </thead>\n",
       "  <tbody>\n",
       "    <tr>\n",
       "      <th>0</th>\n",
       "      <td>0</td>\n",
       "      <td>0</td>\n",
       "      <td>4</td>\n",
       "      <td>1.000000</td>\n",
       "      <td>1.000000</td>\n",
       "      <td>1.000000</td>\n",
       "      <td>data/images/Apex_Legends_0.png</td>\n",
       "      <td>VALID</td>\n",
       "      <td>True</td>\n",
       "      <td>0</td>\n",
       "    </tr>\n",
       "    <tr>\n",
       "      <th>1</th>\n",
       "      <td>4</td>\n",
       "      <td>4</td>\n",
       "      <td>18</td>\n",
       "      <td>0.962614</td>\n",
       "      <td>0.960422</td>\n",
       "      <td>0.964021</td>\n",
       "      <td>data/images/Apex_Legends_1003.png</td>\n",
       "      <td>VALID</td>\n",
       "      <td>True</td>\n",
       "      <td>4</td>\n",
       "    </tr>\n",
       "    <tr>\n",
       "      <th>2</th>\n",
       "      <td>5</td>\n",
       "      <td>5</td>\n",
       "      <td>30</td>\n",
       "      <td>0.972693</td>\n",
       "      <td>0.960698</td>\n",
       "      <td>0.984389</td>\n",
       "      <td>data/images/Apex_Legends_1004.png</td>\n",
       "      <td>VALID</td>\n",
       "      <td>True</td>\n",
       "      <td>5</td>\n",
       "    </tr>\n",
       "    <tr>\n",
       "      <th>3</th>\n",
       "      <td>11</td>\n",
       "      <td>11</td>\n",
       "      <td>4</td>\n",
       "      <td>1.000000</td>\n",
       "      <td>1.000000</td>\n",
       "      <td>1.000000</td>\n",
       "      <td>data/images/Apex_Legends_100.png</td>\n",
       "      <td>VALID</td>\n",
       "      <td>True</td>\n",
       "      <td>11</td>\n",
       "    </tr>\n",
       "    <tr>\n",
       "      <th>4</th>\n",
       "      <td>13</td>\n",
       "      <td>13</td>\n",
       "      <td>284</td>\n",
       "      <td>0.976689</td>\n",
       "      <td>0.960388</td>\n",
       "      <td>1.000000</td>\n",
       "      <td>data/images/Apex_Legends_1011.png</td>\n",
       "      <td>VALID</td>\n",
       "      <td>True</td>\n",
       "      <td>13</td>\n",
       "    </tr>\n",
       "    <tr>\n",
       "      <th>...</th>\n",
       "      <td>...</td>\n",
       "      <td>...</td>\n",
       "      <td>...</td>\n",
       "      <td>...</td>\n",
       "      <td>...</td>\n",
       "      <td>...</td>\n",
       "      <td>...</td>\n",
       "      <td>...</td>\n",
       "      <td>...</td>\n",
       "      <td>...</td>\n",
       "    </tr>\n",
       "    <tr>\n",
       "      <th>9768</th>\n",
       "      <td>26197</td>\n",
       "      <td>19830</td>\n",
       "      <td>4</td>\n",
       "      <td>1.000000</td>\n",
       "      <td>1.000000</td>\n",
       "      <td>1.000000</td>\n",
       "      <td>data/images/WRC_93.png</td>\n",
       "      <td>VALID</td>\n",
       "      <td>True</td>\n",
       "      <td>26197</td>\n",
       "    </tr>\n",
       "    <tr>\n",
       "      <th>9769</th>\n",
       "      <td>26198</td>\n",
       "      <td>19830</td>\n",
       "      <td>4</td>\n",
       "      <td>1.000000</td>\n",
       "      <td>1.000000</td>\n",
       "      <td>1.000000</td>\n",
       "      <td>data/images/WRC_94.png</td>\n",
       "      <td>VALID</td>\n",
       "      <td>True</td>\n",
       "      <td>26198</td>\n",
       "    </tr>\n",
       "    <tr>\n",
       "      <th>9770</th>\n",
       "      <td>26200</td>\n",
       "      <td>19634</td>\n",
       "      <td>4</td>\n",
       "      <td>1.000000</td>\n",
       "      <td>1.000000</td>\n",
       "      <td>1.000000</td>\n",
       "      <td>data/images/WRC_96.png</td>\n",
       "      <td>VALID</td>\n",
       "      <td>True</td>\n",
       "      <td>26200</td>\n",
       "    </tr>\n",
       "    <tr>\n",
       "      <th>9771</th>\n",
       "      <td>26202</td>\n",
       "      <td>19453</td>\n",
       "      <td>4</td>\n",
       "      <td>1.000000</td>\n",
       "      <td>1.000000</td>\n",
       "      <td>1.000000</td>\n",
       "      <td>data/images/WRC_98.png</td>\n",
       "      <td>VALID</td>\n",
       "      <td>True</td>\n",
       "      <td>26202</td>\n",
       "    </tr>\n",
       "    <tr>\n",
       "      <th>9772</th>\n",
       "      <td>26203</td>\n",
       "      <td>19454</td>\n",
       "      <td>4</td>\n",
       "      <td>1.000000</td>\n",
       "      <td>1.000000</td>\n",
       "      <td>1.000000</td>\n",
       "      <td>data/images/WRC_99.png</td>\n",
       "      <td>VALID</td>\n",
       "      <td>True</td>\n",
       "      <td>26203</td>\n",
       "    </tr>\n",
       "  </tbody>\n",
       "</table>\n",
       "<p>9773 rows × 10 columns</p>\n",
       "</div>"
      ],
      "text/plain": [
       "      index  component_id  count  mean_distance  min_distance  max_distance                           filename error_code  is_valid  fd_index\n",
       "0         0             0      4       1.000000      1.000000      1.000000     data/images/Apex_Legends_0.png      VALID      True         0\n",
       "1         4             4     18       0.962614      0.960422      0.964021  data/images/Apex_Legends_1003.png      VALID      True         4\n",
       "2         5             5     30       0.972693      0.960698      0.984389  data/images/Apex_Legends_1004.png      VALID      True         5\n",
       "3        11            11      4       1.000000      1.000000      1.000000   data/images/Apex_Legends_100.png      VALID      True        11\n",
       "4        13            13    284       0.976689      0.960388      1.000000  data/images/Apex_Legends_1011.png      VALID      True        13\n",
       "...     ...           ...    ...            ...           ...           ...                                ...        ...       ...       ...\n",
       "9768  26197         19830      4       1.000000      1.000000      1.000000             data/images/WRC_93.png      VALID      True     26197\n",
       "9769  26198         19830      4       1.000000      1.000000      1.000000             data/images/WRC_94.png      VALID      True     26198\n",
       "9770  26200         19634      4       1.000000      1.000000      1.000000             data/images/WRC_96.png      VALID      True     26200\n",
       "9771  26202         19453      4       1.000000      1.000000      1.000000             data/images/WRC_98.png      VALID      True     26202\n",
       "9772  26203         19454      4       1.000000      1.000000      1.000000             data/images/WRC_99.png      VALID      True     26203\n",
       "\n",
       "[9773 rows x 10 columns]"
      ]
     },
     "execution_count": 6,
     "metadata": {},
     "output_type": "execute_result"
    }
   ],
   "source": [
    "#Let's first get the information about which cluster each image belongs to.\n",
    "connected_components_df , _ = fd.connected_components()\n",
    "connected_components_df"
   ]
  },
  {
   "cell_type": "code",
   "execution_count": 7,
   "id": "25271685-c922-4615-9f4c-a032dc1036e4",
   "metadata": {},
   "outputs": [],
   "source": [
    "# Duplicates are stored in a cluster (component_id). Let's group the images based on the component_id.\n",
    "duplicates_df = (\n",
    "    connected_components_df\n",
    "    .groupby('component_id')\n",
    "    .agg(\n",
    "        filenames=('filename', list),\n",
    "        count=('filename', 'size'),\n",
    "        mean_distance=('mean_distance', 'mean')\n",
    "    )\n",
    "    .sort_values('mean_distance', ascending=False)\n",
    ")"
   ]
  },
  {
   "cell_type": "code",
   "execution_count": 8,
   "id": "9a1d724f-49f5-4352-98c1-77ae43f1d6cd",
   "metadata": {},
   "outputs": [
    {
     "data": {
      "text/html": [
       "<div>\n",
       "<style scoped>\n",
       "    .dataframe tbody tr th:only-of-type {\n",
       "        vertical-align: middle;\n",
       "    }\n",
       "\n",
       "    .dataframe tbody tr th {\n",
       "        vertical-align: top;\n",
       "    }\n",
       "\n",
       "    .dataframe thead th {\n",
       "        text-align: right;\n",
       "    }\n",
       "</style>\n",
       "<table border=\"1\" class=\"dataframe\">\n",
       "  <thead>\n",
       "    <tr style=\"text-align: right;\">\n",
       "      <th></th>\n",
       "      <th>filenames</th>\n",
       "      <th>count</th>\n",
       "      <th>mean_distance</th>\n",
       "    </tr>\n",
       "    <tr>\n",
       "      <th>component_id</th>\n",
       "      <th></th>\n",
       "      <th></th>\n",
       "      <th></th>\n",
       "    </tr>\n",
       "  </thead>\n",
       "  <tbody>\n",
       "    <tr>\n",
       "      <th>0</th>\n",
       "      <td>[data/images/Apex_Legends_0.png, data/images/.ipynb_checkpoints/Apex_Legends_0-checkpoint.png]</td>\n",
       "      <td>2</td>\n",
       "      <td>1.000000</td>\n",
       "    </tr>\n",
       "    <tr>\n",
       "      <th>15723</th>\n",
       "      <td>[data/images/The_Sims4_3078.png, data/images/The_Sims4_3079.png]</td>\n",
       "      <td>2</td>\n",
       "      <td>1.000000</td>\n",
       "    </tr>\n",
       "    <tr>\n",
       "      <th>15627</th>\n",
       "      <td>[data/images/The_Sims4_2961.png, data/images/The_Sims4_2963.png]</td>\n",
       "      <td>2</td>\n",
       "      <td>1.000000</td>\n",
       "    </tr>\n",
       "    <tr>\n",
       "      <th>15628</th>\n",
       "      <td>[data/images/The_Sims4_2962.png, data/images/The_Sims4_2964.png]</td>\n",
       "      <td>2</td>\n",
       "      <td>1.000000</td>\n",
       "    </tr>\n",
       "    <tr>\n",
       "      <th>15638</th>\n",
       "      <td>[data/images/The_Sims4_2974.png, data/images/The_Sims4_2976.png]</td>\n",
       "      <td>2</td>\n",
       "      <td>1.000000</td>\n",
       "    </tr>\n",
       "    <tr>\n",
       "      <th>...</th>\n",
       "      <td>...</td>\n",
       "      <td>...</td>\n",
       "      <td>...</td>\n",
       "    </tr>\n",
       "    <tr>\n",
       "      <th>11908</th>\n",
       "      <td>[data/images/FC24_3794.png, data/images/FC24_721.png]</td>\n",
       "      <td>2</td>\n",
       "      <td>0.960196</td>\n",
       "    </tr>\n",
       "    <tr>\n",
       "      <th>7780</th>\n",
       "      <td>[data/images/Battlefield_2042_1276.png, data/images/Battlefield_2042_1277.png]</td>\n",
       "      <td>2</td>\n",
       "      <td>0.960126</td>\n",
       "    </tr>\n",
       "    <tr>\n",
       "      <th>2501</th>\n",
       "      <td>[data/images/Apex_Legends_366.png, data/images/Apex_Legends_8995.png]</td>\n",
       "      <td>2</td>\n",
       "      <td>0.960118</td>\n",
       "    </tr>\n",
       "    <tr>\n",
       "      <th>10250</th>\n",
       "      <td>[data/images/FC24_1847.png, data/images/FC24_1848.png]</td>\n",
       "      <td>2</td>\n",
       "      <td>0.960096</td>\n",
       "    </tr>\n",
       "    <tr>\n",
       "      <th>6637</th>\n",
       "      <td>[data/images/Apex_Legends_8367.png, data/images/Apex_Legends_853.png]</td>\n",
       "      <td>2</td>\n",
       "      <td>0.960034</td>\n",
       "    </tr>\n",
       "  </tbody>\n",
       "</table>\n",
       "<p>3402 rows × 3 columns</p>\n",
       "</div>"
      ],
      "text/plain": [
       "                                                                                                   filenames  count  mean_distance\n",
       "component_id                                                                                                                      \n",
       "0             [data/images/Apex_Legends_0.png, data/images/.ipynb_checkpoints/Apex_Legends_0-checkpoint.png]      2       1.000000\n",
       "15723                                       [data/images/The_Sims4_3078.png, data/images/The_Sims4_3079.png]      2       1.000000\n",
       "15627                                       [data/images/The_Sims4_2961.png, data/images/The_Sims4_2963.png]      2       1.000000\n",
       "15628                                       [data/images/The_Sims4_2962.png, data/images/The_Sims4_2964.png]      2       1.000000\n",
       "15638                                       [data/images/The_Sims4_2974.png, data/images/The_Sims4_2976.png]      2       1.000000\n",
       "...                                                                                                      ...    ...            ...\n",
       "11908                                                  [data/images/FC24_3794.png, data/images/FC24_721.png]      2       0.960196\n",
       "7780                          [data/images/Battlefield_2042_1276.png, data/images/Battlefield_2042_1277.png]      2       0.960126\n",
       "2501                                   [data/images/Apex_Legends_366.png, data/images/Apex_Legends_8995.png]      2       0.960118\n",
       "10250                                                 [data/images/FC24_1847.png, data/images/FC24_1848.png]      2       0.960096\n",
       "6637                                   [data/images/Apex_Legends_8367.png, data/images/Apex_Legends_853.png]      2       0.960034\n",
       "\n",
       "[3402 rows x 3 columns]"
      ]
     },
     "execution_count": 8,
     "metadata": {},
     "output_type": "execute_result"
    }
   ],
   "source": [
    "duplicates_df"
   ]
  },
  {
   "cell_type": "code",
   "execution_count": 9,
   "id": "f3ac05f0-35eb-473c-92fe-a102327f879e",
   "metadata": {},
   "outputs": [
    {
     "data": {
      "text/html": [
       "<div>\n",
       "<style scoped>\n",
       "    .dataframe tbody tr th:only-of-type {\n",
       "        vertical-align: middle;\n",
       "    }\n",
       "\n",
       "    .dataframe tbody tr th {\n",
       "        vertical-align: top;\n",
       "    }\n",
       "\n",
       "    .dataframe thead th {\n",
       "        text-align: right;\n",
       "    }\n",
       "</style>\n",
       "<table border=\"1\" class=\"dataframe\">\n",
       "  <thead>\n",
       "    <tr style=\"text-align: right;\">\n",
       "      <th></th>\n",
       "      <th>image</th>\n",
       "      <th>duplicates</th>\n",
       "    </tr>\n",
       "    <tr>\n",
       "      <th>component_id</th>\n",
       "      <th></th>\n",
       "      <th></th>\n",
       "    </tr>\n",
       "  </thead>\n",
       "  <tbody>\n",
       "    <tr>\n",
       "      <th>0</th>\n",
       "      <td>data/images/Apex_Legends_0.png</td>\n",
       "      <td>[data/images/.ipynb_checkpoints/Apex_Legends_0-checkpoint.png]</td>\n",
       "    </tr>\n",
       "    <tr>\n",
       "      <th>15723</th>\n",
       "      <td>data/images/The_Sims4_3078.png</td>\n",
       "      <td>[data/images/The_Sims4_3079.png]</td>\n",
       "    </tr>\n",
       "    <tr>\n",
       "      <th>15627</th>\n",
       "      <td>data/images/The_Sims4_2961.png</td>\n",
       "      <td>[data/images/The_Sims4_2963.png]</td>\n",
       "    </tr>\n",
       "    <tr>\n",
       "      <th>15628</th>\n",
       "      <td>data/images/The_Sims4_2962.png</td>\n",
       "      <td>[data/images/The_Sims4_2964.png]</td>\n",
       "    </tr>\n",
       "    <tr>\n",
       "      <th>15638</th>\n",
       "      <td>data/images/The_Sims4_2974.png</td>\n",
       "      <td>[data/images/The_Sims4_2976.png]</td>\n",
       "    </tr>\n",
       "    <tr>\n",
       "      <th>...</th>\n",
       "      <td>...</td>\n",
       "      <td>...</td>\n",
       "    </tr>\n",
       "    <tr>\n",
       "      <th>11908</th>\n",
       "      <td>data/images/FC24_3794.png</td>\n",
       "      <td>[data/images/FC24_721.png]</td>\n",
       "    </tr>\n",
       "    <tr>\n",
       "      <th>7780</th>\n",
       "      <td>data/images/Battlefield_2042_1276.png</td>\n",
       "      <td>[data/images/Battlefield_2042_1277.png]</td>\n",
       "    </tr>\n",
       "    <tr>\n",
       "      <th>2501</th>\n",
       "      <td>data/images/Apex_Legends_366.png</td>\n",
       "      <td>[data/images/Apex_Legends_8995.png]</td>\n",
       "    </tr>\n",
       "    <tr>\n",
       "      <th>10250</th>\n",
       "      <td>data/images/FC24_1847.png</td>\n",
       "      <td>[data/images/FC24_1848.png]</td>\n",
       "    </tr>\n",
       "    <tr>\n",
       "      <th>6637</th>\n",
       "      <td>data/images/Apex_Legends_8367.png</td>\n",
       "      <td>[data/images/Apex_Legends_853.png]</td>\n",
       "    </tr>\n",
       "  </tbody>\n",
       "</table>\n",
       "<p>3402 rows × 2 columns</p>\n",
       "</div>"
      ],
      "text/plain": [
       "                                              image                                                      duplicates\n",
       "component_id                                                                                                       \n",
       "0                    data/images/Apex_Legends_0.png  [data/images/.ipynb_checkpoints/Apex_Legends_0-checkpoint.png]\n",
       "15723                data/images/The_Sims4_3078.png                                [data/images/The_Sims4_3079.png]\n",
       "15627                data/images/The_Sims4_2961.png                                [data/images/The_Sims4_2963.png]\n",
       "15628                data/images/The_Sims4_2962.png                                [data/images/The_Sims4_2964.png]\n",
       "15638                data/images/The_Sims4_2974.png                                [data/images/The_Sims4_2976.png]\n",
       "...                                             ...                                                             ...\n",
       "11908                     data/images/FC24_3794.png                                      [data/images/FC24_721.png]\n",
       "7780          data/images/Battlefield_2042_1276.png                         [data/images/Battlefield_2042_1277.png]\n",
       "2501               data/images/Apex_Legends_366.png                             [data/images/Apex_Legends_8995.png]\n",
       "10250                     data/images/FC24_1847.png                                     [data/images/FC24_1848.png]\n",
       "6637              data/images/Apex_Legends_8367.png                              [data/images/Apex_Legends_853.png]\n",
       "\n",
       "[3402 rows x 2 columns]"
      ]
     },
     "execution_count": 9,
     "metadata": {},
     "output_type": "execute_result"
    }
   ],
   "source": [
    "# Above, we see Each cluster represents a set of images that are duplicates or near-duplicates of each other.\n",
    "\n",
    "# Now, let's simplify the above dataframe by keeping only the first image from each cluster and treat the rest as duplicates.\n",
    "\n",
    "import pandas as pd\n",
    "\n",
    "def extract_image_duplicates(row):\n",
    "    filenames = row['filenames']\n",
    "    image = filenames[0]\n",
    "    duplicates = filenames[1:] if len(filenames) > 1 else []\n",
    "    return pd.Series({'image': image, 'duplicates': duplicates})\n",
    "\n",
    "df = duplicates_df.apply(extract_image_duplicates, axis=1)\n",
    "df"
   ]
  },
  {
   "cell_type": "code",
   "execution_count": 10,
   "id": "a5aa099f-f02c-4b62-97a1-695e4b7b783f",
   "metadata": {},
   "outputs": [],
   "source": [
    "duplicates_to_remove = df['duplicates'].tolist()"
   ]
  },
  {
   "cell_type": "code",
   "execution_count": 11,
   "id": "ab1e24e7-c7cd-4903-9861-3eb753ca173c",
   "metadata": {},
   "outputs": [
    {
     "data": {
      "text/plain": [
       "[['data/images/.ipynb_checkpoints/Apex_Legends_0-checkpoint.png'],\n",
       " ['data/images/The_Sims4_3079.png'],\n",
       " ['data/images/The_Sims4_2963.png'],\n",
       " ['data/images/The_Sims4_2964.png'],\n",
       " ['data/images/The_Sims4_2976.png'],\n",
       " ['data/images/The_Sims4_2977.png'],\n",
       " ['data/images/The_Sims4_2982.png'],\n",
       " ['data/images/The_Sims4_2983.png'],\n",
       " ['data/images/The_Sims4_36.png'],\n",
       " ['data/images/The_Sims4_3006.png']]"
      ]
     },
     "execution_count": 11,
     "metadata": {},
     "output_type": "execute_result"
    }
   ],
   "source": [
    "#diplay a few\n",
    "duplicates_to_remove[0:10]"
   ]
  },
  {
   "cell_type": "code",
   "execution_count": 12,
   "id": "249bc693-e6b2-4f13-8418-d3de522c172c",
   "metadata": {},
   "outputs": [
    {
     "data": {
      "text/plain": [
       "3402"
      ]
     },
     "execution_count": 12,
     "metadata": {},
     "output_type": "execute_result"
    }
   ],
   "source": [
    "len(duplicates_to_remove)"
   ]
  },
  {
   "cell_type": "code",
   "execution_count": null,
   "id": "7810b88f-afa8-49ba-b8cd-c0e5767c99ab",
   "metadata": {},
   "outputs": [],
   "source": [
    "skip_the_first_one = True\n",
    "for duplicate in duplicates_to_remove:\n",
    "    if skip_the_first_one == True:\n",
    "        skip_the_first_one = False\n",
    "        continue\n",
    "    #splite the image path to get the game name by spliting the path by '/'\n",
    "    duplicate = duplicate[0]\n",
    "    game_name = duplicate.split('/')[2].split('_')[:-1]\n",
    "    #combine the game name to get the game name\n",
    "    game_name = '_'.join(game_name)\n",
    "    # print(f'game_name: {game_name}')\n",
    "    image_name = duplicate.split('/')[2]\n",
    "    # print(f'image_name: {image_name}')\n",
    "    #remove the image from the images folder\n",
    "    os.remove(duplicate)\n",
    "\n",
    "    # update the json file with the removed image name\n",
    "    json_file = f'data/bug_reports_{game_name}.json'\n",
    "    with open(json_file, 'r') as file:\n",
    "        data = json.load(file)\n",
    "    for row in data:\n",
    "        if image_name in row['images_names']:\n",
    "            row['images_names'].remove(image_name)\n",
    "            break\n",
    "        \n",
    "    # Save the modified JSON data back to the file\n",
    "    with open(json_file, 'w', newline='') as file:\n",
    "        json.dump(data, file, indent=4)\n",
    "\n",
    "print('All duplicates removed and JSON files updated successfully.')"
   ]
  },
  {
   "cell_type": "code",
   "execution_count": 18,
   "id": "bfd463ef-2cee-484f-b3b4-a88c210ca98c",
   "metadata": {},
   "outputs": [
    {
     "name": "stdout",
     "output_type": "stream",
     "text": [
      "0 empty rows removed from JSON files.\n"
     ]
    }
   ],
   "source": [
    "json_files = glob.glob('data/*.json')\n",
    "row_removed = 0\n",
    "for json_file in json_files:\n",
    "    with open(json_file, 'r') as file:\n",
    "        data = json.load(file)\n",
    "    for row in data:\n",
    "        if len(row['images_names']) == 0 or len(row['image_urls']) == 0:\n",
    "            row_removed += 1\n",
    "            data.remove(row)\n",
    "    with open(json_file, 'w', newline='') as file:\n",
    "        json.dump(data, file, indent=4)\n",
    "print(f'{row_removed} empty rows removed from JSON files.')"
   ]
  },
  {
   "cell_type": "code",
   "execution_count": null,
   "id": "68a02052-a27f-43a3-a11b-2bc6ca15e0f7",
   "metadata": {},
   "outputs": [],
   "source": [
    "import glob\n",
    "import json\n",
    "\n",
    "json_files = glob.glob('data/*.json')\n",
    "row_removed = 0\n",
    "\n",
    "for json_file in json_files:\n",
    "    with open(json_file, 'r') as file:\n",
    "        data = json.load(file)\n",
    "    \n",
    "    original_length = len(data)\n",
    "    data = [row for row in data if len(row['images_names']) != 0 or len(row['image_urls']) != 0]\n",
    "    row_removed += original_length - len(data)\n",
    "    \n",
    "    with open(json_file, 'w', newline='') as file:\n",
    "        json.dump(data, file, indent=4)\n",
    "\n",
    "print(f'{row_removed} empty rows removed from JSON files.')\n"
   ]
  }
 ],
 "metadata": {
  "kernelspec": {
   "display_name": "Python 3 (ipykernel)",
   "language": "python",
   "name": "python3"
  },
  "language_info": {
   "codemirror_mode": {
    "name": "ipython",
    "version": 3
   },
   "file_extension": ".py",
   "mimetype": "text/x-python",
   "name": "python",
   "nbconvert_exporter": "python",
   "pygments_lexer": "ipython3",
   "version": "3.9.19"
  }
 },
 "nbformat": 4,
 "nbformat_minor": 5
}
