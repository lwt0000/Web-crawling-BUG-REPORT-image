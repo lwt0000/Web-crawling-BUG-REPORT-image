{
 "cells": [
  {
   "cell_type": "code",
   "execution_count": null,
   "id": "d7029eaa-4f67-4808-809f-496e3c802b4f",
   "metadata": {},
   "outputs": [],
   "source": [
    "!pip install -U pip\n",
    "!pip install fastdup"
   ]
  },
  {
   "cell_type": "code",
   "execution_count": 1,
   "id": "8c21f0fa-3d28-4b99-8461-66f9483f8b07",
   "metadata": {},
   "outputs": [
    {
     "data": {
      "text/plain": [
       "'1.126'"
      ]
     },
     "execution_count": 1,
     "metadata": {},
     "output_type": "execute_result"
    }
   ],
   "source": [
    "import fastdup\n",
    "fastdup.__version__"
   ]
  },
  {
   "cell_type": "code",
   "execution_count": 2,
   "id": "b7a22197-d311-4ef8-b430-518a51bed27e",
   "metadata": {},
   "outputs": [
    {
     "name": "stdout",
     "output_type": "stream",
     "text": [
      "/home/jupyter-wentao\n"
     ]
    }
   ],
   "source": [
    "!pwd"
   ]
  },
  {
   "cell_type": "code",
   "execution_count": null,
   "id": "8555f0b7-9c3d-4e97-a6d2-866211f8f4e1",
   "metadata": {},
   "outputs": [],
   "source": [
    "fd = fastdup.create(input_dir=\"Web-crawling-BUG-REPORT-image/data/images/\")\n",
    "fd.run()"
   ]
  },
  {
   "cell_type": "code",
   "execution_count": null,
   "id": "35a818db-fdf2-4ec2-a5ea-c72a7bc27007",
   "metadata": {},
   "outputs": [],
   "source": [
    "fd.vis.duplicates_gallery()    # create a visual gallery of duplicates\n"
   ]
  },
  {
   "cell_type": "code",
   "execution_count": null,
   "id": "c0685d24-516c-4732-af80-15f7add40967",
   "metadata": {},
   "outputs": [],
   "source": [
    "fd.vis.outliers_gallery()      # create a visual gallery of anomalies\n"
   ]
  },
  {
   "cell_type": "code",
   "execution_count": null,
   "id": "5b11fb83-c22e-4ebc-920b-cec6e5308a88",
   "metadata": {},
   "outputs": [],
   "source": [
    "fd.vis.component_gallery()     # create a visualization of connected components\n"
   ]
  },
  {
   "cell_type": "code",
   "execution_count": null,
   "id": "f98d557c-3214-43e1-a61f-56d811c5956c",
   "metadata": {},
   "outputs": [],
   "source": [
    "fd.vis.stats_gallery()         # create a visualization of images statistics (e.g. blur)\n"
   ]
  },
  {
   "cell_type": "code",
   "execution_count": null,
   "id": "4feaa1bd-d092-43f6-bd77-86fcdf8b3bad",
   "metadata": {},
   "outputs": [],
   "source": [
    "fd.vis.similarity_gallery()    # create a gallery of similar images"
   ]
  }
 ],
 "metadata": {
  "kernelspec": {
   "display_name": "Python 3 (ipykernel)",
   "language": "python",
   "name": "python3"
  },
  "language_info": {
   "codemirror_mode": {
    "name": "ipython",
    "version": 3
   },
   "file_extension": ".py",
   "mimetype": "text/x-python",
   "name": "python",
   "nbconvert_exporter": "python",
   "pygments_lexer": "ipython3",
   "version": "3.9.19"
  }
 },
 "nbformat": 4,
 "nbformat_minor": 5
}
